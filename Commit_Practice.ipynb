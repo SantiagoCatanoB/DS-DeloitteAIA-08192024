{
 "cells": [
  {
   "cell_type": "markdown",
   "id": "47e5b13a-a046-4018-9831-eeb2ba0aaefd",
   "metadata": {},
   "source": [
    "## Commit practice"
   ]
  },
  {
   "cell_type": "code",
   "execution_count": null,
   "id": "e423aec5-e1ed-4cad-b58c-2cd2fe69fc2a",
   "metadata": {},
   "outputs": [],
   "source": []
  }
 ],
 "metadata": {
  "kernelspec": {
   "display_name": "Python 3 (ipykernel)",
   "language": "python",
   "name": "python3"
  },
  "language_info": {
   "codemirror_mode": {
    "name": "ipython",
    "version": 3
   },
   "file_extension": ".py",
   "mimetype": "text/x-python",
   "name": "python",
   "nbconvert_exporter": "python",
   "pygments_lexer": "ipython3",
   "version": "3.12.4"
  }
 },
 "nbformat": 4,
 "nbformat_minor": 5
}
